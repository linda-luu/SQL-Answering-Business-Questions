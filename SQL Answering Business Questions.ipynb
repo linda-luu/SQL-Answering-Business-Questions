{
 "cells": [
  {
   "cell_type": "markdown",
   "metadata": {},
   "source": [
    "## Answering Business Questions Uing SQL"
   ]
  },
  {
   "cell_type": "markdown",
   "metadata": {},
   "source": [
    "Chinook is a fictional record store that is looking to improve sales and are looking for answers to several questions.\n",
    "- A new record label deal allows them to choose 3 of 4 albums to add to their store. Each album are from artists of different genres, which albums should they add to their catalog and advertise to an American audience? \n",
    "- Employees are very customer facing, with each customer assigned to a sales employee. How is employee performance, how do they differ?"
   ]
  },
  {
   "cell_type": "markdown",
   "metadata": {},
   "source": [
    "First lets Connect Jupyter Notebook to database file chinook.db"
   ]
  },
  {
   "cell_type": "code",
   "execution_count": 1,
   "metadata": {
    "collapsed": false
   },
   "outputs": [
    {
     "data": {
      "text/plain": [
       "'Connected: None@chinook.db'"
      ]
     },
     "execution_count": 1,
     "metadata": {},
     "output_type": "execute_result"
    }
   ],
   "source": [
    "%%capture\n",
    "%load_ext sql\n",
    "%sql sqlite:///chinook.db"
   ]
  },
  {
   "cell_type": "markdown",
   "metadata": {},
   "source": [
    "Now we will look at the database contents"
   ]
  },
  {
   "cell_type": "code",
   "execution_count": 2,
   "metadata": {
    "collapsed": false
   },
   "outputs": [
    {
     "name": "stdout",
     "output_type": "stream",
     "text": [
      "Done.\n"
     ]
    },
    {
     "data": {
      "text/html": [
       "<table>\n",
       "    <tr>\n",
       "        <th>name</th>\n",
       "        <th>type</th>\n",
       "    </tr>\n",
       "    <tr>\n",
       "        <td>album</td>\n",
       "        <td>table</td>\n",
       "    </tr>\n",
       "    <tr>\n",
       "        <td>artist</td>\n",
       "        <td>table</td>\n",
       "    </tr>\n",
       "    <tr>\n",
       "        <td>customer</td>\n",
       "        <td>table</td>\n",
       "    </tr>\n",
       "    <tr>\n",
       "        <td>employee</td>\n",
       "        <td>table</td>\n",
       "    </tr>\n",
       "    <tr>\n",
       "        <td>genre</td>\n",
       "        <td>table</td>\n",
       "    </tr>\n",
       "    <tr>\n",
       "        <td>invoice</td>\n",
       "        <td>table</td>\n",
       "    </tr>\n",
       "    <tr>\n",
       "        <td>invoice_line</td>\n",
       "        <td>table</td>\n",
       "    </tr>\n",
       "    <tr>\n",
       "        <td>media_type</td>\n",
       "        <td>table</td>\n",
       "    </tr>\n",
       "    <tr>\n",
       "        <td>playlist</td>\n",
       "        <td>table</td>\n",
       "    </tr>\n",
       "    <tr>\n",
       "        <td>playlist_track</td>\n",
       "        <td>table</td>\n",
       "    </tr>\n",
       "    <tr>\n",
       "        <td>track</td>\n",
       "        <td>table</td>\n",
       "    </tr>\n",
       "</table>"
      ],
      "text/plain": [
       "[('album', 'table'),\n",
       " ('artist', 'table'),\n",
       " ('customer', 'table'),\n",
       " ('employee', 'table'),\n",
       " ('genre', 'table'),\n",
       " ('invoice', 'table'),\n",
       " ('invoice_line', 'table'),\n",
       " ('media_type', 'table'),\n",
       " ('playlist', 'table'),\n",
       " ('playlist_track', 'table'),\n",
       " ('track', 'table')]"
      ]
     },
     "execution_count": 2,
     "metadata": {},
     "output_type": "execute_result"
    }
   ],
   "source": [
    "%%sql\n",
    "SELECT\n",
    "    name,\n",
    "    type\n",
    "FROM sqlite_master\n",
    "WHERE type IN (\"table\",\"view\");"
   ]
  },
  {
   "cell_type": "markdown",
   "metadata": {},
   "source": [
    "The database contains several tables, structred as:\n",
    "![image](https://s3.amazonaws.com/dq-content/189/chinook-schema.svg)"
   ]
  },
  {
   "cell_type": "markdown",
   "metadata": {},
   "source": [
    "### 1. Track Sales by Genre"
   ]
  },
  {
   "cell_type": "markdown",
   "metadata": {},
   "source": [
    "To evaluate which of the 4 albums will produce the best sales, we will look at which genres of music had the highest sales in the USA. \n",
    "\n",
    "| Artist Name | Genre |\n",
    "| --- | -: |\n",
    "| Regal | Hip-Hop |\n",
    "| Red Tone | Punk |\n",
    "| Meteor and the Girls | Pop |\n",
    "| Slim Jim Bites | Blues|\n",
    "\n",
    "Below is a table with the total number of tracks sold, and the percentage of sales for the top 10 genres in the USA."
   ]
  },
  {
   "cell_type": "code",
   "execution_count": 3,
   "metadata": {
    "collapsed": false
   },
   "outputs": [
    {
     "name": "stdout",
     "output_type": "stream",
     "text": [
      "Done.\n"
     ]
    },
    {
     "data": {
      "text/html": [
       "<table>\n",
       "    <tr>\n",
       "        <th>genre</th>\n",
       "        <th>quantity_sold</th>\n",
       "        <th>percentage_sales</th>\n",
       "    </tr>\n",
       "    <tr>\n",
       "        <td>Rock</td>\n",
       "        <td>561</td>\n",
       "        <td>53.38</td>\n",
       "    </tr>\n",
       "    <tr>\n",
       "        <td>Alternative &amp; Punk</td>\n",
       "        <td>130</td>\n",
       "        <td>12.37</td>\n",
       "    </tr>\n",
       "    <tr>\n",
       "        <td>Metal</td>\n",
       "        <td>124</td>\n",
       "        <td>11.8</td>\n",
       "    </tr>\n",
       "    <tr>\n",
       "        <td>R&amp;B/Soul</td>\n",
       "        <td>53</td>\n",
       "        <td>5.04</td>\n",
       "    </tr>\n",
       "    <tr>\n",
       "        <td>Blues</td>\n",
       "        <td>36</td>\n",
       "        <td>3.43</td>\n",
       "    </tr>\n",
       "    <tr>\n",
       "        <td>Alternative</td>\n",
       "        <td>35</td>\n",
       "        <td>3.33</td>\n",
       "    </tr>\n",
       "    <tr>\n",
       "        <td>Latin</td>\n",
       "        <td>22</td>\n",
       "        <td>2.09</td>\n",
       "    </tr>\n",
       "    <tr>\n",
       "        <td>Pop</td>\n",
       "        <td>22</td>\n",
       "        <td>2.09</td>\n",
       "    </tr>\n",
       "    <tr>\n",
       "        <td>Hip Hop/Rap</td>\n",
       "        <td>20</td>\n",
       "        <td>1.9</td>\n",
       "    </tr>\n",
       "    <tr>\n",
       "        <td>Jazz</td>\n",
       "        <td>14</td>\n",
       "        <td>1.33</td>\n",
       "    </tr>\n",
       "</table>"
      ],
      "text/plain": [
       "[('Rock', 561, 53.38),\n",
       " ('Alternative & Punk', 130, 12.37),\n",
       " ('Metal', 124, 11.8),\n",
       " ('R&B/Soul', 53, 5.04),\n",
       " ('Blues', 36, 3.43),\n",
       " ('Alternative', 35, 3.33),\n",
       " ('Latin', 22, 2.09),\n",
       " ('Pop', 22, 2.09),\n",
       " ('Hip Hop/Rap', 20, 1.9),\n",
       " ('Jazz', 14, 1.33)]"
      ]
     },
     "execution_count": 3,
     "metadata": {},
     "output_type": "execute_result"
    }
   ],
   "source": [
    "%%sql \n",
    "WITH usa_track_sales as (\n",
    "        SELECT \n",
    "              inv_l.quantity as quantity,\n",
    "              g.name as genre\n",
    "        FROM customer as c \n",
    "        INNER JOIN invoice as inv ON c.customer_id = inv.customer_id\n",
    "        INNER JOIN invoice_line as inv_l ON inv_l.invoice_id = inv.invoice_id\n",
    "        INNER JOIN track as t ON t.track_id = inv_l.track_id \n",
    "        INNER JOIN genre as g ON g.genre_id = t.genre_id\n",
    "        WHERE country = \"USA\"\n",
    "     )\n",
    "\n",
    "SELECT \n",
    "     genre,\n",
    "     SUM(quantity) as quantity_sold,\n",
    "     ROUND(CAST(SUM(quantity) as FLOAT) / (\n",
    "                                           SELECT COUNT(*) \n",
    "                                           FROM usa_track_sales\n",
    "                                          ) * 100, 2) \n",
    "                                          as percentage_sales\n",
    "     FROM usa_track_sales\n",
    "     GROUP BY genre\n",
    "     ORDER BY quantity_sold DESC\n",
    "     LIMIT 10"
   ]
  },
  {
   "cell_type": "markdown",
   "metadata": {},
   "source": [
    "Based on track sale performance by genre, we would select the albums by\n",
    "- Red Tone (Punk)\n",
    "- Slim Jim Bites (Blues)\n",
    "- Meteor and the Girls (Pop)\n",
    "\n",
    "It should be noted that the difference in sales observed in our data between Pop and Hip-Hop are very small. In addition, the sales from Punk, Blues, and Pop tracks combined only accounts for about 17.89% of total track sales in the USA. There is a strong preference for the rock genre, making up over 50% of total sales, Chinook should look to add tracks from that genre."
   ]
  },
  {
   "cell_type": "markdown",
   "metadata": {},
   "source": [
    "### 2. Employee Sales"
   ]
  },
  {
   "cell_type": "markdown",
   "metadata": {},
   "source": [
    "To examine the performance of sale support agents, we will look at each employees accumlated sales from their hire date."
   ]
  },
  {
   "cell_type": "code",
   "execution_count": 4,
   "metadata": {
    "collapsed": false
   },
   "outputs": [
    {
     "name": "stdout",
     "output_type": "stream",
     "text": [
      "Done.\n"
     ]
    },
    {
     "data": {
      "text/html": [
       "<table>\n",
       "    <tr>\n",
       "        <th>name</th>\n",
       "        <th>hire_date</th>\n",
       "        <th>total_sales</th>\n",
       "        <th>sale_percentage</th>\n",
       "    </tr>\n",
       "    <tr>\n",
       "        <td>Jane Peacock</td>\n",
       "        <td>2017-04-01 00:00:00</td>\n",
       "        <td>1732.0</td>\n",
       "        <td>36.77</td>\n",
       "    </tr>\n",
       "    <tr>\n",
       "        <td>Margaret Park</td>\n",
       "        <td>2017-05-03 00:00:00</td>\n",
       "        <td>1584.0</td>\n",
       "        <td>33.63</td>\n",
       "    </tr>\n",
       "    <tr>\n",
       "        <td>Steve Johnson</td>\n",
       "        <td>2017-10-17 00:00:00</td>\n",
       "        <td>1394.0</td>\n",
       "        <td>29.6</td>\n",
       "    </tr>\n",
       "</table>"
      ],
      "text/plain": [
       "[('Jane Peacock', '2017-04-01 00:00:00', 1732.0, 36.77),\n",
       " ('Margaret Park', '2017-05-03 00:00:00', 1584.0, 33.63),\n",
       " ('Steve Johnson', '2017-10-17 00:00:00', 1394.0, 29.6)]"
      ]
     },
     "execution_count": 4,
     "metadata": {},
     "output_type": "execute_result"
    }
   ],
   "source": [
    "%%sql \n",
    "WITH sales_agents AS (\n",
    "    SELECT \n",
    "          c.customer_id,\n",
    "          e.employee_id,\n",
    "          e.first_name,\n",
    "          e.last_name,\n",
    "          e.hire_date,\n",
    "          i.total\n",
    "    FROM customer as c\n",
    "    INNER JOIN employee as e ON e.employee_id = c.support_rep_id\n",
    "    INNER JOIN invoice as i ON i.customer_id = c.customer_id\n",
    ")\n",
    "\n",
    "SELECT \n",
    "     first_name || \" \" || last_name as name,\n",
    "     hire_date,\n",
    "     ROUND(SUM(total), 0) as total_sales,\n",
    "     ROUND(SUM(total) / (\n",
    "                         SELECT SUM(total) \n",
    "                         FROM sales_agents\n",
    "                        ) \n",
    "           * 100, 2) as sale_percentage\n",
    "FROM sales_agents\n",
    "GROUP BY employee_id"
   ]
  },
  {
   "cell_type": "markdown",
   "metadata": {},
   "source": [
    "From the table above, we see a 7% difference in total sales between the highest and lowest performing employee. However, the differences in total sales and sales percentage can be explained by their hire dates and we don't observe any large differences in performance."
   ]
  },
  {
   "cell_type": "markdown",
   "metadata": {},
   "source": [
    "### 3. Sales Data By Country"
   ]
  },
  {
   "cell_type": "markdown",
   "metadata": {},
   "source": [
    "We are interesed in the total number of customers in each country, their total value of sales, the average amount a customer spends in each country, and the average value in each order. Countires with only one customer will be combined into an *Other* category. "
   ]
  },
  {
   "cell_type": "code",
   "execution_count": 5,
   "metadata": {
    "collapsed": false
   },
   "outputs": [
    {
     "name": "stdout",
     "output_type": "stream",
     "text": [
      "Done.\n"
     ]
    },
    {
     "data": {
      "text/html": [
       "<table>\n",
       "    <tr>\n",
       "        <th>country</th>\n",
       "        <th>customers</th>\n",
       "        <th>total_sales</th>\n",
       "        <th>avg_customer_sales</th>\n",
       "        <th>avg_order_total</th>\n",
       "    </tr>\n",
       "    <tr>\n",
       "        <td>USA</td>\n",
       "        <td>13</td>\n",
       "        <td>1040.49</td>\n",
       "        <td>80.04</td>\n",
       "        <td>7.94</td>\n",
       "    </tr>\n",
       "    <tr>\n",
       "        <td>Canada</td>\n",
       "        <td>8</td>\n",
       "        <td>535.59</td>\n",
       "        <td>66.95</td>\n",
       "        <td>7.05</td>\n",
       "    </tr>\n",
       "    <tr>\n",
       "        <td>Brazil</td>\n",
       "        <td>5</td>\n",
       "        <td>427.68</td>\n",
       "        <td>85.54</td>\n",
       "        <td>7.01</td>\n",
       "    </tr>\n",
       "    <tr>\n",
       "        <td>France</td>\n",
       "        <td>5</td>\n",
       "        <td>389.07</td>\n",
       "        <td>77.81</td>\n",
       "        <td>7.78</td>\n",
       "    </tr>\n",
       "    <tr>\n",
       "        <td>Germany</td>\n",
       "        <td>4</td>\n",
       "        <td>334.62</td>\n",
       "        <td>83.66</td>\n",
       "        <td>8.16</td>\n",
       "    </tr>\n",
       "    <tr>\n",
       "        <td>United Kingdom</td>\n",
       "        <td>3</td>\n",
       "        <td>245.52</td>\n",
       "        <td>81.84</td>\n",
       "        <td>8.77</td>\n",
       "    </tr>\n",
       "    <tr>\n",
       "        <td>Czech Republic</td>\n",
       "        <td>2</td>\n",
       "        <td>273.24</td>\n",
       "        <td>136.62</td>\n",
       "        <td>9.11</td>\n",
       "    </tr>\n",
       "    <tr>\n",
       "        <td>India</td>\n",
       "        <td>2</td>\n",
       "        <td>183.15</td>\n",
       "        <td>91.57</td>\n",
       "        <td>8.72</td>\n",
       "    </tr>\n",
       "    <tr>\n",
       "        <td>Portugal</td>\n",
       "        <td>2</td>\n",
       "        <td>185.13</td>\n",
       "        <td>92.57</td>\n",
       "        <td>6.38</td>\n",
       "    </tr>\n",
       "    <tr>\n",
       "        <td>Other</td>\n",
       "        <td>15</td>\n",
       "        <td>1094.94</td>\n",
       "        <td>73.0</td>\n",
       "        <td>7.45</td>\n",
       "    </tr>\n",
       "</table>"
      ],
      "text/plain": [
       "[('USA', 13, 1040.49, 80.04, 7.94),\n",
       " ('Canada', 8, 535.59, 66.95, 7.05),\n",
       " ('Brazil', 5, 427.68, 85.54, 7.01),\n",
       " ('France', 5, 389.07, 77.81, 7.78),\n",
       " ('Germany', 4, 334.62, 83.66, 8.16),\n",
       " ('United Kingdom', 3, 245.52, 81.84, 8.77),\n",
       " ('Czech Republic', 2, 273.24, 136.62, 9.11),\n",
       " ('India', 2, 183.15, 91.57, 8.72),\n",
       " ('Portugal', 2, 185.13, 92.57, 6.38),\n",
       " ('Other', 15, 1094.94, 73.0, 7.45)]"
      ]
     },
     "execution_count": 5,
     "metadata": {},
     "output_type": "execute_result"
    }
   ],
   "source": [
    "%%sql\n",
    "WITH other_country AS (\n",
    "    SELECT \n",
    "        c.country as all_countries,\n",
    "        COUNT(DISTINCT c.customer_id) as number_customers,\n",
    "        SUM(i.total) as total_sales,\n",
    "        SUM(i.total)/COUNT(DISTINCT c.customer_id) as avg_customer_sales,\n",
    "        SUM(i.total)/COUNT(DISTINCT i.invoice_id) as avg_order_total,\n",
    "        CASE \n",
    "            WHEN COUNT(DISTINCT c.customer_id) = 1\n",
    "            THEN 1000\n",
    "            ELSE -COUNT(DISTINCT c.customer_id)\n",
    "        END as sort\n",
    "    FROM customer as c\n",
    "    INNER JOIN invoice as i ON c.customer_id = i.customer_id\n",
    "    GROUP BY all_countries\n",
    ")\n",
    "\n",
    "SELECT \n",
    "    CASE \n",
    "        WHEN number_customers = 1 \n",
    "        THEN \"Other\" \n",
    "    ELSE all_countries\n",
    "    END as country,\n",
    "    SUM(number_customers) as customers,\n",
    "    ROUND(SUM(total_sales), 2) as total_sales,\n",
    "    ROUND(AVG(avg_customer_sales), 2) as avg_customer_sales,\n",
    "    ROUND(AVG(avg_order_total), 2) as avg_order_total\n",
    "FROM other_country\n",
    "GROUP BY country\n",
    "ORDER BY sort;\n"
   ]
  },
  {
   "cell_type": "markdown",
   "metadata": {
    "collapsed": true
   },
   "source": [
    "<p> From our data, we can see that Unitied States is currently the market we obtain most of our customers. If we don't want to spend extra on acquring customers from other countries, new tracks added to the store should be tailored to customers in USA and Canada as they make up a large portion of our customer base,  </p>\n",
    "<p> Countries we may want to target in the future are Czech Republic, India, and the United Kingdom with the highest average spend per order. Do note that our dataset is very small and what is observed could be due to chance. More data should be collected in the targeted countries to determine if what we observe here is still true with more customers. In addition to data on other factors, such as costs associated with acquiring new customers in different countries.</p>"
   ]
  },
  {
   "cell_type": "markdown",
   "metadata": {
    "collapsed": true
   },
   "source": [
    "### 4. Albums vs Individual Track Sales"
   ]
  },
  {
   "cell_type": "markdown",
   "metadata": {
    "collapsed": true
   },
   "source": [
    "Management is considering a new strategy to cut down on their costs, however are worried how this strategy may impact the companies revenue. Currently, Chinook purchases entire albums from record companies, paying for every track in the album. Instead of this, they would like to only purchase the popular hits that produce the highest sale volumes to add to the store. To help them answer this, we will examine the percentage of sales for individual tracks vs whole albums. "
   ]
  },
  {
   "cell_type": "code",
   "execution_count": 70,
   "metadata": {
    "collapsed": false
   },
   "outputs": [
    {
     "name": "stdout",
     "output_type": "stream",
     "text": [
      "Done.\n"
     ]
    },
    {
     "data": {
      "text/html": [
       "<table>\n",
       "    <tr>\n",
       "        <th>purchased_album</th>\n",
       "        <th>number_invoices</th>\n",
       "        <th>percent_invoices</th>\n",
       "    </tr>\n",
       "    <tr>\n",
       "        <td>no</td>\n",
       "        <td>503</td>\n",
       "        <td>81.92</td>\n",
       "    </tr>\n",
       "    <tr>\n",
       "        <td>yes</td>\n",
       "        <td>111</td>\n",
       "        <td>18.08</td>\n",
       "    </tr>\n",
       "</table>"
      ],
      "text/plain": [
       "[('no', 503, 81.92), ('yes', 111, 18.08)]"
      ]
     },
     "execution_count": 70,
     "metadata": {},
     "output_type": "execute_result"
    }
   ],
   "source": [
    "%%sql\n",
    "/* invoice_line table has information on invoice_id and track_id, combined with the track table we can see which track belongs to which album*/\n",
    "WITH invln_tracks AS(\n",
    "    SELECT \n",
    "        invln.invoice_id,\n",
    "        invln.track_id,\n",
    "        t.album_id\n",
    "        FROM invoice_line as invln\n",
    "        LEFT JOIN track as t ON t.track_id = invln.track_id\n",
    "), \n",
    "\n",
    "/* calculate the number of tracks in each album from the track table */\n",
    "album_length AS(\n",
    "    SELECT \n",
    "        album_id as album,\n",
    "        COUNT(DISTINCT track_id) as length \n",
    "    FROM track\n",
    "    GROUP BY album_id\n",
    "), \n",
    "\n",
    "/* then calculate the number of distinct tracks purcahsed from each album, in every invoice */\n",
    "album_purchases AS(\n",
    "    SELECT \n",
    "        invln_t.invoice_id,\n",
    "        invln_t.album_id,\n",
    "        COUNT(DISTINCT invln_t.track_id) as album_tracks_purchased,\n",
    "        album_length.length,\n",
    "        CASE\n",
    "            WHEN album_length.length = COUNT(DISTINCT invln_t.track_id) \n",
    "                AND album_length.length > 2\n",
    "            THEN 1\n",
    "            ELSE 0 \n",
    "        END as full_album\n",
    "    FROM invln_tracks as invln_t\n",
    "    LEFT OUTER JOIN album_length ON invln_t.album_id = album_length.album\n",
    "    GROUP BY invoice_id, album_id \n",
    "    ORDER BY invoice_id, full_album\n",
    ")\n",
    "\n",
    "SELECT \n",
    "    purchased_album,\n",
    "    COUNT(invoice_id) as number_invoices,\n",
    "    ROUND(COUNT(invoice_id)/CAST((SELECT COUNT(DISTINCT invoice_id)\n",
    "                                  FROM album_purchases) \n",
    "                            as FLOAT) * 100, 2) as percent_invoices\n",
    "FROM (SELECT \n",
    "          invoice_id, \n",
    "          MAX(full_album) as full_album, \n",
    "          CASE \n",
    "              WHEN MAX(full_album) = 1   /* When the number of tracks purchased in the invoice from the album matches total number of tracks in the album, flag 1 */\n",
    "              THEN \"yes\"\n",
    "              ELSE \"no\"\n",
    "          END AS purchased_album\n",
    "      FROM album_purchases\n",
    "      GROUP BY invoice_ID)\n",
    "GROUP BY purchased_album"
   ]
  },
  {
   "cell_type": "markdown",
   "metadata": {},
   "source": [
    "We observe that about 18% of total invoices include a purchse of a full album. Due to this being a good proportion of invoices, only purchasing popular tracks from record labels instead of full albums will likely hurt the companies revenue. Therefore we advise against this new strategy."
   ]
  }
 ],
 "metadata": {
  "kernelspec": {
   "display_name": "Python 3",
   "language": "python",
   "name": "python3"
  },
  "language_info": {
   "codemirror_mode": {
    "name": "ipython",
    "version": 3
   },
   "file_extension": ".py",
   "mimetype": "text/x-python",
   "name": "python",
   "nbconvert_exporter": "python",
   "pygments_lexer": "ipython3",
   "version": "3.4.3"
  }
 },
 "nbformat": 4,
 "nbformat_minor": 2
}
